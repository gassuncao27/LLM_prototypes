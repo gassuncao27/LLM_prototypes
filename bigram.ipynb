{
 "cells": [
  {
   "cell_type": "code",
   "execution_count": 16,
   "metadata": {},
   "outputs": [
    {
     "name": "stdout",
     "output_type": "stream",
     "text": [
      "cpu\n"
     ]
    }
   ],
   "source": [
    "import torch\n",
    "import torch.nn as nn\n",
    "from torch.nn import functional as F\n",
    "\n",
    "device = 'cuda' if torch.cuda.is_available() else 'cpu'\n",
    "print(device)\n",
    "\n",
    "block_size = 8\n",
    "batch_size = 4\n",
    "max_iters = 1000\n",
    "# eval_interval = 2500\n",
    "learning_rate = 3e-4\n",
    "eval_iters = 250"
   ]
  },
  {
   "cell_type": "code",
   "execution_count": 17,
   "metadata": {},
   "outputs": [
    {
     "name": "stdout",
     "output_type": "stream",
     "text": [
      "['\\n', ' ', '!', '\"', '&', \"'\", '(', ')', '*', ',', '-', '.', '0', '1', '2', '3', '4', '5', '6', '7', '8', '9', ':', ';', '?', 'A', 'B', 'C', 'D', 'E', 'F', 'G', 'H', 'I', 'J', 'K', 'L', 'M', 'N', 'O', 'P', 'Q', 'R', 'S', 'T', 'U', 'V', 'W', 'X', 'Y', 'Z', '[', ']', '_', 'a', 'b', 'c', 'd', 'e', 'f', 'g', 'h', 'i', 'j', 'k', 'l', 'm', 'n', 'o', 'p', 'q', 'r', 's', 't', 'u', 'v', 'w', 'x', 'y', 'z']\n"
     ]
    }
   ],
   "source": [
    "with open('wizard_of_oz.txt', 'r', encoding='utf-8') as f:\n",
    "    text = f.read()\n",
    "\n",
    "chars = sorted(set(text))\n",
    "print(chars)\n",
    "vocab_size = len(chars)"
   ]
  },
  {
   "cell_type": "code",
   "execution_count": 18,
   "metadata": {},
   "outputs": [
    {
     "name": "stdout",
     "output_type": "stream",
     "text": [
      "tensor([ 1,  1, 28, 39, 42, 39, 44, 32, 49,  1, 25, 38, 28,  1, 44, 32, 29,  1,\n",
      "        47, 33, 50, 25, 42, 28,  1, 33, 38,  1, 39, 50,  0,  0,  1,  1, 26, 49,\n",
      "         0,  0,  1,  1, 36, 11,  1, 30, 42, 25, 38, 35,  1, 26, 25, 45, 37,  0,\n",
      "         0,  1,  1, 25, 45, 44, 32, 39, 42,  1, 39, 30,  1, 44, 32, 29,  1, 47,\n",
      "        33, 50, 25, 42, 28,  1, 39, 30,  1, 39, 50,  9,  1, 44, 32, 29,  1, 36,\n",
      "        25, 38, 28,  1, 39, 30,  1, 39, 50,  9])\n"
     ]
    }
   ],
   "source": [
    "# encoders and decoders = tokenizer\n",
    "string_to_int = { ch:i for i, ch in enumerate(chars) }\n",
    "int_to_string = { i:ch for i, ch in enumerate(chars) }\n",
    "encode = lambda s: [string_to_int[c] for c in s]\n",
    "decode = lambda l: ''.join([int_to_string[i] for i in l])\n",
    "\n",
    "data = torch.tensor(encode(text), dtype=torch.long)\n",
    "print(data[:100])"
   ]
  },
  {
   "cell_type": "code",
   "execution_count": 19,
   "metadata": {},
   "outputs": [
    {
     "name": "stdout",
     "output_type": "stream",
     "text": [
      "\n",
      "size x matrix torch.Size([4, 8])\n",
      "\n",
      "inputs: \n",
      "tensor([[67, 57, 65, 58,  1, 73, 68,  1],\n",
      "        [71, 58, 72,  0, 72, 61, 74, 57],\n",
      "        [ 1, 69, 58, 68, 69, 65, 58,  1],\n",
      "        [71, 58,  1, 74, 72,  1, 66, 74]])\n",
      "targets: \n",
      "tensor([[57, 65, 58,  1, 73, 68,  1, 73],\n",
      "        [58, 72,  0, 72, 61, 74, 57, 57],\n",
      "        [69, 58, 68, 69, 65, 58,  1, 60],\n",
      "        [58,  1, 74, 72,  1, 66, 74, 56]])\n"
     ]
    }
   ],
   "source": [
    "# training and validation splits\n",
    "n = int(0.8*len(data))\n",
    "train_data = data[:n]\n",
    "val_data = data[n:]\n",
    "\n",
    "def get_batch(split):\n",
    "    data= train_data if split == 'train' else val_data\n",
    "    ix = torch.randint(len(data) - block_size, (batch_size, ))\n",
    "    x = torch.stack([data[i:i+block_size] for i in ix])\n",
    "    y = torch.stack([data[i+1:i+block_size+1] for i in ix])\n",
    "    x, y = x.to(device), y.to(device)\n",
    "    return x, y\n",
    "\n",
    "x, y = get_batch('train')\n",
    "print(f'\\nsize x matrix {x.shape}\\n')\n",
    "print('inputs: ')\n",
    "print(x)\n",
    "print('targets: ')\n",
    "print(y)"
   ]
  },
  {
   "cell_type": "code",
   "execution_count": 20,
   "metadata": {},
   "outputs": [],
   "source": [
    "# x = train_data[:block_size]\n",
    "# y = train_data[1:block_size+1]\n",
    "\n",
    "# for t in range(block_size):\n",
    "#     context = x[:t+1]\n",
    "#     target = y[t]\n",
    "#     print('when input is', context, 'target is ', target)\n",
    "\n",
    "# how to measure the loss:\n",
    "# -ln(1/80) = to predict the next carachter. // have to minimize the loss, the objective\n",
    "# utilize adamW as the optimize algorithm"
   ]
  },
  {
   "cell_type": "code",
   "execution_count": 21,
   "metadata": {},
   "outputs": [],
   "source": [
    "@torch.no_grad() # certificates that pytorch doesn't use any gradient here\n",
    "def estimate_loss():\n",
    "    out = {}\n",
    "    model.eval()\n",
    "    for split in ['train', 'val']:\n",
    "        losses = torch.zeros(eval_iters)\n",
    "        for k in range(eval_iters):\n",
    "            X, Y = get_batch(split)\n",
    "            logits, loss = model(X, Y)\n",
    "            losses[k] = loss.item()\n",
    "        out[split] = losses.mean()\n",
    "    model.train()\n",
    "    return out"
   ]
  },
  {
   "cell_type": "code",
   "execution_count": 22,
   "metadata": {},
   "outputs": [
    {
     "name": "stdout",
     "output_type": "stream",
     "text": [
      "\n",
      "m7f7KvK6)S[A\"k-.:MRl?CXnL&_I5M44oIgV;zf*\n",
      "O5zy[1tj_oT:r:BC9[(mccnP2-POcf*RenPxKr1kYFR'v-A-0dS;jLVPk.PdmYQwG1\n",
      "SZWG1R2M,MmHPInR_9Z6IsrR;C\n",
      "XrdGXnyVPkNnnJV(Stw olW64;KaCi7GkW)de!ahd'1y'UmzZD8V2(M2UbEizT1rSJgG1lqM.W[j-_ACha XYQ*0TnL\n",
      "bb9FhDyLZAF\n",
      "5';C\"gLEM8m_p,2lC9:Tfx;bdH\n",
      "kqrg:'ofD&2cE.9Me80EI]8:HkYIugk\n",
      "KW((_A'2M4*e*Axsr7D v2M9')OlUi2&;zUeHPJn,wkP4YQBZgq.Hl'V]6ZqW.__PU0_Q6IR\"uamwKaNG1jx9&YIv)cq?:&4Lhg_b'-x;QM7EY!Cq,g,G;pjE*\n",
      "5qf?gW9 mFUVBHC ;\"LeA\n",
      "jSBR,8lx\",o,0hv]d*cx1W_Hoon5ZBBtBENT8T0,,W6OfB3C,Q\"\n",
      "dx)wl\n"
     ]
    }
   ],
   "source": [
    "class BigramLanguageModel(nn.Module):\n",
    "\n",
    "    def __init__ (self, vocab_size):\n",
    "        super().__init__()\n",
    "        self.token_embedding_table = nn.Embedding(vocab_size, vocab_size)\n",
    "\n",
    "    def forward(self, index, targets=None):\n",
    "        logits =  self.token_embedding_table(index)\n",
    "\n",
    "        if targets is None:\n",
    "            loss = None\n",
    "        else:\n",
    "            B, T, C = logits.shape\n",
    "            logits = logits.view(B*T, C)\n",
    "            targets = targets.view(B*T)\n",
    "            loss = F.cross_entropy(logits, targets)\n",
    "\n",
    "        return logits, loss\n",
    "    \n",
    "    def generate(self, index, max_new_tokens):\n",
    "        # index is (B, T) array of indices in the current context\n",
    "        for _ in range(max_new_tokens):\n",
    "            # get the predictions\n",
    "            logits, loss = self.forward(index)\n",
    "            # focus only on the laste time step\n",
    "            logits = logits[:, -1, :] # becomes(B, C)\n",
    "            # apply softmax to get probabilities\n",
    "            probs = F.softmax(logits, dim=-1) # (B, C)\n",
    "            # sample from the distribution\n",
    "            index_next = torch.multinomial(probs, num_samples=1) # (B, 1)\n",
    "            # append sample index to the running sequence\n",
    "            index = torch.cat((index, index_next), dim=1) # (B, T+1)\n",
    "        return index\n",
    "    \n",
    "model = BigramLanguageModel(vocab_size)\n",
    "m = model.to(device)\n",
    "\n",
    "context = torch.zeros((1,1), dtype=torch.long, device=device)\n",
    "generated_chars = decode(m.generate(context, max_new_tokens=500)[0].tolist())\n",
    "print(generated_chars)\n"
   ]
  },
  {
   "cell_type": "code",
   "execution_count": 36,
   "metadata": {},
   "outputs": [
    {
     "name": "stdout",
     "output_type": "stream",
     "text": [
      "step: 0, train loss: 2.4449, val loss: 2.4685\n",
      "step: 250, train loss: 2.4384, val loss: 2.4690\n",
      "step: 500, train loss: 2.4390, val loss: 2.4976\n",
      "step: 750, train loss: 2.4726, val loss: 2.4987\n",
      "step: 1000, train loss: 2.4597, val loss: 2.4728\n",
      "step: 1250, train loss: 2.4228, val loss: 2.4785\n",
      "step: 1500, train loss: 2.4324, val loss: 2.4913\n",
      "step: 1750, train loss: 2.4253, val loss: 2.4820\n",
      "step: 2000, train loss: 2.4110, val loss: 2.4705\n",
      "step: 2250, train loss: 2.4454, val loss: 2.4662\n",
      "step: 2500, train loss: 2.4540, val loss: 2.4980\n",
      "step: 2750, train loss: 2.4360, val loss: 2.4994\n",
      "step: 3000, train loss: 2.4341, val loss: 2.4910\n",
      "step: 3250, train loss: 2.4471, val loss: 2.4778\n",
      "step: 3500, train loss: 2.4481, val loss: 2.4786\n",
      "step: 3750, train loss: 2.4508, val loss: 2.4746\n",
      "step: 4000, train loss: 2.4355, val loss: 2.4454\n",
      "step: 4250, train loss: 2.4516, val loss: 2.5039\n",
      "step: 4500, train loss: 2.4467, val loss: 2.4746\n",
      "step: 4750, train loss: 2.4240, val loss: 2.5181\n",
      "step: 5000, train loss: 2.4527, val loss: 2.5077\n",
      "step: 5250, train loss: 2.4583, val loss: 2.4663\n",
      "step: 5500, train loss: 2.4176, val loss: 2.4830\n",
      "step: 5750, train loss: 2.4370, val loss: 2.4963\n",
      "step: 6000, train loss: 2.4151, val loss: 2.4581\n",
      "step: 6250, train loss: 2.4339, val loss: 2.4937\n",
      "step: 6500, train loss: 2.4475, val loss: 2.4885\n",
      "step: 6750, train loss: 2.4399, val loss: 2.4765\n",
      "step: 7000, train loss: 2.4014, val loss: 2.4814\n",
      "step: 7250, train loss: 2.4458, val loss: 2.4893\n",
      "step: 7500, train loss: 2.4472, val loss: 2.4877\n",
      "step: 7750, train loss: 2.4436, val loss: 2.4961\n",
      "step: 8000, train loss: 2.4413, val loss: 2.4859\n",
      "step: 8250, train loss: 2.4255, val loss: 2.4630\n",
      "step: 8500, train loss: 2.4259, val loss: 2.4794\n",
      "step: 8750, train loss: 2.4228, val loss: 2.4789\n",
      "step: 9000, train loss: 2.4381, val loss: 2.4608\n",
      "step: 9250, train loss: 2.4406, val loss: 2.4949\n",
      "step: 9500, train loss: 2.4583, val loss: 2.4710\n",
      "step: 9750, train loss: 2.4275, val loss: 2.4776\n",
      "2.3549885749816895\n"
     ]
    }
   ],
   "source": [
    "# create a pytorch optimizer\n",
    "optimizer = torch.optim.AdamW(model.parameters(), lr = learning_rate)\n",
    "\n",
    "for iter in range (max_iters):\n",
    "\n",
    "    if iter % eval_iters == 0:\n",
    "        losses = estimate_loss()\n",
    "        print(f'step: {iter}, train loss: {losses[\"train\"]:.4f}, val loss: {losses[\"val\"]:.4f}')\n",
    "\n",
    "\n",
    "    # sample a batch of data\n",
    "    xb, yb = get_batch('train')\n",
    "\n",
    "    # evaluate the loss\n",
    "    logit, loss = model.forward(xb, yb)\n",
    "    optimizer.zero_grad(set_to_none=True)\n",
    "    loss.backward()\n",
    "    optimizer.step()\n",
    "    \n",
    "print(loss.item())"
   ]
  },
  {
   "cell_type": "code",
   "execution_count": 37,
   "metadata": {},
   "outputs": [
    {
     "name": "stdout",
     "output_type": "stream",
     "text": [
      "\n",
      "ly Bathed,\" mme burfiny I't Jorinsporey coorefur arotonthe ly\n",
      "\"alith o entyoghangaberighed E n p Uhe gy bare b, nyod whadllomatod trmy Soris vedr\n",
      "\" salld w ththe wn is d asurot f ouisthithe T lins k fftelit.\n",
      "thoor ghafare y ge  cothondovened, ma U; tas f stick towheirore ask s higrkewa berrotld illlichie\n",
      "Ze Tn l islebe m bomarosche, twedvasouree t wis cee tll t\n",
      "\n",
      "\n",
      "tif b thint ulil boutt I'toty, aidd llyltl l dly, or as,\n",
      "whtl, thev]mary \"If ickiergly'smarigey,\" tathiexcackad s  ak it ys.\n",
      "\n",
      "arofuin \n"
     ]
    }
   ],
   "source": [
    "context = torch.zeros((1, 1), dtype=torch.long, device=device)\n",
    "generated_chars = decode(m.generate(context, max_new_tokens=500)[0].tolist())\n",
    "print(generated_chars)"
   ]
  },
  {
   "cell_type": "code",
   "execution_count": null,
   "metadata": {},
   "outputs": [],
   "source": []
  }
 ],
 "metadata": {
  "kernelspec": {
   "display_name": ".venv",
   "language": "python",
   "name": "python3"
  },
  "language_info": {
   "codemirror_mode": {
    "name": "ipython",
    "version": 3
   },
   "file_extension": ".py",
   "mimetype": "text/x-python",
   "name": "python",
   "nbconvert_exporter": "python",
   "pygments_lexer": "ipython3",
   "version": "3.11.1"
  }
 },
 "nbformat": 4,
 "nbformat_minor": 2
}
