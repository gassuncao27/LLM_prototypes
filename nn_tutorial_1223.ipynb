{
 "cells": [
  {
   "cell_type": "code",
   "execution_count": 1,
   "metadata": {},
   "outputs": [],
   "source": [
    "import torch\n",
    "\n",
    "from torch import nn\n",
    "from torch.utils.data import DataLoader\n",
    "from torchvision import datasets\n",
    "from torchvision.transforms import ToTensor"
   ]
  },
  {
   "cell_type": "code",
   "execution_count": 2,
   "metadata": {},
   "outputs": [],
   "source": [
    "# Download training data from open datasets\n",
    "training_data = datasets.FashionMNIST(\n",
    "    root=\"data\",\n",
    "    train=True,\n",
    "    download=True,\n",
    "    transform=ToTensor(),\n",
    ")\n",
    "\n",
    "# Download test data from open datasets\n",
    "test_data = datasets.FashionMNIST(\n",
    "    root=\"data\",\n",
    "    train=False,\n",
    "    download=True,\n",
    "    transform=ToTensor(),    \n",
    ")"
   ]
  },
  {
   "cell_type": "code",
   "execution_count": 3,
   "metadata": {},
   "outputs": [
    {
     "name": "stdout",
     "output_type": "stream",
     "text": [
      "Shape of X [N, C, H, W]: torch.Size([64, 1, 28, 28])\n",
      "Shape of y torch.Size([64]) torch.int64\n"
     ]
    }
   ],
   "source": [
    "# Define the batchs\n",
    "batch_size = 64\n",
    "\n",
    "train_dataloader = DataLoader(training_data, batch_size=batch_size)\n",
    "test_dataloader = DataLoader(test_data, batch_size=batch_size)\n",
    "\n",
    "for X, y in test_dataloader:\n",
    "    print(f\"Shape of X [N, C, H, W]: {X.shape}\")\n",
    "    print(f\"Shape of y {y.shape} {y.dtype}\")\n",
    "    break    "
   ]
  },
  {
   "cell_type": "code",
   "execution_count": 4,
   "metadata": {},
   "outputs": [
    {
     "name": "stdout",
     "output_type": "stream",
     "text": [
      "Using mps device\n"
     ]
    }
   ],
   "source": [
    "# Move operations to GPU or MPS if available\n",
    "device = (\n",
    "    \"cuda\"\n",
    "    if torch.cuda.is_available()\n",
    "    else \"mps\"\n",
    "    if torch.backends.mps.is_available()\n",
    "    else \"cpu\"\n",
    ")\n",
    "\n",
    "print(f\"Using {device} device\")"
   ]
  },
  {
   "cell_type": "code",
   "execution_count": 5,
   "metadata": {},
   "outputs": [
    {
     "name": "stdout",
     "output_type": "stream",
     "text": [
      "NeuralNetwork(\n",
      "  (flatten): Flatten(start_dim=1, end_dim=-1)\n",
      "  (linear_relu_stack): Sequential(\n",
      "    (0): Linear(in_features=784, out_features=512, bias=True)\n",
      "    (1): ReLU()\n",
      "    (2): Linear(in_features=512, out_features=512, bias=True)\n",
      "    (3): ReLU()\n",
      "    (4): Linear(in_features=512, out_features=10, bias=True)\n",
      "  )\n",
      ")\n"
     ]
    }
   ],
   "source": [
    "# Define the model\n",
    "\n",
    "class NeuralNetwork(nn.Module):\n",
    "    def __init__(self):\n",
    "        super().__init__()\n",
    "        self.flatten = nn.Flatten()\n",
    "        self.linear_relu_stack = nn.Sequential(\n",
    "            nn.Linear(28*28, 512),\n",
    "            nn.ReLU(),\n",
    "            nn.Linear(512, 512),\n",
    "            nn.ReLU(),\n",
    "            nn.Linear(512, 10)\n",
    "        )\n",
    "\n",
    "    def forward(self, x):\n",
    "        x = self.flatten(x)\n",
    "        logits = self.linear_relu_stack(x)\n",
    "        return logits\n",
    "    \n",
    "model = NeuralNetwork().to(device)\n",
    "print(model)"
   ]
  },
  {
   "cell_type": "code",
   "execution_count": 6,
   "metadata": {},
   "outputs": [],
   "source": [
    "# loss function and optimizer\n",
    "loss_fn = nn.CrossEntropyLoss()\n",
    "optimizer = torch.optim.SGD(model.parameters(), lr=1e-3)"
   ]
  },
  {
   "cell_type": "code",
   "execution_count": 7,
   "metadata": {},
   "outputs": [],
   "source": [
    "# makes prediction, backpropagates the prediction error and optimize\n",
    "def train(dataloader, model, loss_fn, optimizer):\n",
    "    size = len(dataloader.dataset)\n",
    "    model.train()\n",
    "    for batch, (X, y) in enumerate(dataloader):\n",
    "        X, y = X.to(device), y.to(device)\n",
    "\n",
    "        # Compute prediction error\n",
    "        pred = model(X)\n",
    "        loss = loss_fn(pred, y)\n",
    "\n",
    "        # Backpropagation\n",
    "        loss.backward()\n",
    "        optimizer.step()\n",
    "        optimizer.zero_grad()\n",
    "\n",
    "        if batch % 100 == 0:\n",
    "            loss, current = loss.item(), (batch + 1) * len(X)\n",
    "            print(f\"loss: {loss:>7f} [{current:>5d} / {size:>5d}]\")"
   ]
  },
  {
   "cell_type": "code",
   "execution_count": 8,
   "metadata": {},
   "outputs": [],
   "source": [
    "# check the model performance against the test dataset\n",
    "def test(dataloader, model, loss_fn):\n",
    "    size = len(dataloader.dataset)\n",
    "    num_batches = len(dataloader)\n",
    "    model.eval()\n",
    "    test_loss, correct = 0, 0\n",
    "    with torch.no_grad():\n",
    "        for X, y in dataloader:\n",
    "            X, y = X.to(device), y.to(device)\n",
    "            pred = model(X)\n",
    "            test_loss += loss_fn(pred, y).item()\n",
    "            correct += (pred.argmax(1) == y).type(torch.float).sum().item()\n",
    "    test_loss /= num_batches\n",
    "    correct /= size\n",
    "    print(f\"Test Error: \\n Accuracy: {(100*correct):>0.1f}%, Avg loss: {test_loss:>8f} \\n\")"
   ]
  },
  {
   "cell_type": "code",
   "execution_count": 9,
   "metadata": {},
   "outputs": [
    {
     "name": "stdout",
     "output_type": "stream",
     "text": [
      "\n",
      "loss: 2.311682 [   64 / 60000]\n",
      "loss: 2.295432 [ 6464 / 60000]\n",
      "loss: 2.280793 [12864 / 60000]\n",
      "loss: 2.274358 [19264 / 60000]\n",
      "loss: 2.245910 [25664 / 60000]\n",
      "loss: 2.223042 [32064 / 60000]\n",
      "loss: 2.227989 [38464 / 60000]\n",
      "loss: 2.198778 [44864 / 60000]\n",
      "loss: 2.192380 [51264 / 60000]\n",
      "loss: 2.153187 [57664 / 60000]\n",
      "Test Error: \n",
      " Accuracy: 49.4%, Avg loss: 2.154489 \n",
      "\n",
      "\n",
      "loss: 2.166291 [   64 / 60000]\n",
      "loss: 2.154888 [ 6464 / 60000]\n",
      "loss: 2.102006 [12864 / 60000]\n",
      "loss: 2.117384 [19264 / 60000]\n",
      "loss: 2.058970 [25664 / 60000]\n",
      "loss: 2.006436 [32064 / 60000]\n",
      "loss: 2.025249 [38464 / 60000]\n",
      "loss: 1.951488 [44864 / 60000]\n",
      "loss: 1.956007 [51264 / 60000]\n",
      "loss: 1.876748 [57664 / 60000]\n",
      "Test Error: \n",
      " Accuracy: 56.4%, Avg loss: 1.877478 \n",
      "\n",
      "\n",
      "loss: 1.914342 [   64 / 60000]\n",
      "loss: 1.882054 [ 6464 / 60000]\n",
      "loss: 1.766135 [12864 / 60000]\n",
      "loss: 1.807039 [19264 / 60000]\n",
      "loss: 1.695079 [25664 / 60000]\n",
      "loss: 1.651936 [32064 / 60000]\n",
      "loss: 1.667157 [38464 / 60000]\n",
      "loss: 1.570357 [44864 / 60000]\n",
      "loss: 1.597225 [51264 / 60000]\n",
      "loss: 1.491090 [57664 / 60000]\n",
      "Test Error: \n",
      " Accuracy: 60.9%, Avg loss: 1.508445 \n",
      "\n",
      "\n",
      "loss: 1.576274 [   64 / 60000]\n",
      "loss: 1.540126 [ 6464 / 60000]\n",
      "loss: 1.392545 [12864 / 60000]\n",
      "loss: 1.466717 [19264 / 60000]\n",
      "loss: 1.351117 [25664 / 60000]\n",
      "loss: 1.342495 [32064 / 60000]\n",
      "loss: 1.355074 [38464 / 60000]\n",
      "loss: 1.281110 [44864 / 60000]\n",
      "loss: 1.314163 [51264 / 60000]\n",
      "loss: 1.214066 [57664 / 60000]\n",
      "Test Error: \n",
      " Accuracy: 63.8%, Avg loss: 1.241956 \n",
      "\n",
      "\n",
      "loss: 1.316221 [   64 / 60000]\n",
      "loss: 1.297582 [ 6464 / 60000]\n",
      "loss: 1.136520 [12864 / 60000]\n",
      "loss: 1.241960 [19264 / 60000]\n",
      "loss: 1.122501 [25664 / 60000]\n",
      "loss: 1.140567 [32064 / 60000]\n",
      "loss: 1.160973 [38464 / 60000]\n",
      "loss: 1.101605 [44864 / 60000]\n",
      "loss: 1.138709 [51264 / 60000]\n",
      "loss: 1.050778 [57664 / 60000]\n",
      "Test Error: \n",
      " Accuracy: 65.1%, Avg loss: 1.075849 \n",
      "\n",
      "Done!\n"
     ]
    }
   ],
   "source": [
    "epochs = 5\n",
    "\n",
    "for t in range(epochs):\n",
    "    print()\n",
    "    train(train_dataloader, model, loss_fn, optimizer)\n",
    "    test(test_dataloader, model, loss_fn)\n",
    "print(\"Done!\")"
   ]
  },
  {
   "cell_type": "code",
   "execution_count": 10,
   "metadata": {},
   "outputs": [
    {
     "name": "stdout",
     "output_type": "stream",
     "text": [
      "Saved PyTorch Model State to model.pth\n"
     ]
    }
   ],
   "source": [
    "torch.save(model.state_dict(), \"model.pth\")\n",
    "print(\"Saved PyTorch Model State to model.pth\")"
   ]
  },
  {
   "cell_type": "code",
   "execution_count": 15,
   "metadata": {},
   "outputs": [
    {
     "name": "stdout",
     "output_type": "stream",
     "text": [
      "Predicted: \"Ankle boot\", Actual: \"Ankle boot\"\n"
     ]
    }
   ],
   "source": [
    "model = NeuralNetwork().to(device)\n",
    "model.load_state_dict(torch.load(\"model.pth\"))\n",
    "\n",
    "classes = [\n",
    "    \"T-shirt/top\",\n",
    "    \"Trouser\",\n",
    "    \"Pullover\",\n",
    "    \"Dress\",\n",
    "    \"Coat\",\n",
    "    \"Sandal\",\n",
    "    \"Shirt\",\n",
    "    \"Sneaker\",\n",
    "    \"Bag\",\n",
    "    \"Ankle boot\",\n",
    "]\n",
    "\n",
    "model.eval()\n",
    "x, y = test_data[0][0], test_data[0][1]\n",
    "with torch.no_grad():\n",
    "    x = x.to(device)\n",
    "    pred = model(x)\n",
    "    predicted, actual = classes[pred[0].argmax(0)], classes[y]\n",
    "    print(f'Predicted: \"{predicted}\", Actual: \"{actual}\"')"
   ]
  }
 ],
 "metadata": {
  "kernelspec": {
   "display_name": ".venv",
   "language": "python",
   "name": "python3"
  },
  "language_info": {
   "codemirror_mode": {
    "name": "ipython",
    "version": 3
   },
   "file_extension": ".py",
   "mimetype": "text/x-python",
   "name": "python",
   "nbconvert_exporter": "python",
   "pygments_lexer": "ipython3",
   "version": "3.11.1"
  }
 },
 "nbformat": 4,
 "nbformat_minor": 2
}
